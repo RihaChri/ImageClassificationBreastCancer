{
  "cells": [
    {
      "cell_type": "markdown",
      "metadata": {
        "id": "view-in-github",
        "colab_type": "text"
      },
      "source": [
        "<a href=\"https://colab.research.google.com/github/RihaChri/ImageClassificationBreastCancer/blob/main/Bewerbungstests.ipynb\" target=\"_parent\"><img src=\"https://colab.research.google.com/assets/colab-badge.svg\" alt=\"Open In Colab\"/></a>"
      ]
    },
    {
      "cell_type": "markdown",
      "source": [
        "# Umgekehrte Ganze Zahl\n",
        "Erstellen Sie eine Funktion, die eine ganze Zahl rückwärts geschrieben wieder ausgibt.\n"
      ],
      "metadata": {
        "id": "VEo4P1KYDbnC"
      }
    },
    {
      "cell_type": "code",
      "source": [
        "\n",
        "def reverseInteger(x):\n",
        "    string = str(x)\n",
        "    \n",
        "    if string[0] == '-':\n",
        "        return int('-'+string[:0:-1])\n",
        "    else:\n",
        "        return int(string[::-1])\n",
        "print(reverseInteger(-231))\n",
        "print(reverseInteger(345))"
      ],
      "metadata": {
        "colab": {
          "base_uri": "https://localhost:8080/"
        },
        "id": "cCPDfw7LD0dr",
        "outputId": "68fddda3-be74-47d7-a688-10f62d1118c9"
      },
      "execution_count": 2,
      "outputs": [
        {
          "output_type": "stream",
          "name": "stdout",
          "text": [
            "-132\n",
            "543\n"
          ]
        }
      ]
    },
    {
      "cell_type": "markdown",
      "source": [
        "# Durchschnittliche Wortlänge\n",
        "Erstellen Sie eine Funktion, die die durchschnittliche Wortlänge eines Satzes berechnet."
      ],
      "metadata": {
        "id": "MrLKocNhD_lc"
      }
    },
    {
      "cell_type": "code",
      "source": [
        "def avWordLen(x):\n",
        "    \n",
        "    for i in '.,!?&%$ยง-_:;<>|':\n",
        "        x=x.replace(i,\"\")\n",
        "    print('Sentence without special character:'+x)\n",
        "    r=x.split(\" \")\n",
        "    sum=0\n",
        "    for i in r:\n",
        "        sum+=len(i)\n",
        "    average=sum/len(r)\n",
        "    return average\n",
        "print(avWordLen(\"Hallo ich mag Krokodile...,!?&%$ยง-_:;<>|..\"))"
      ],
      "metadata": {
        "colab": {
          "base_uri": "https://localhost:8080/"
        },
        "id": "JJJXVDDtEKUL",
        "outputId": "1a26ff80-9475-4296-a649-43de80b84607"
      },
      "execution_count": 4,
      "outputs": [
        {
          "output_type": "stream",
          "name": "stdout",
          "text": [
            "Sentence without special character:Hallo ich mag Krokodile\n",
            "5.0\n"
          ]
        }
      ]
    },
    {
      "cell_type": "markdown",
      "source": [
        "# Summen berechnen\n",
        "Schreiben Sie eine Funktion, die Summen berechnet."
      ],
      "metadata": {
        "id": "-NwJzsq1EU4k"
      }
    },
    {
      "cell_type": "code",
      "source": [
        "print('sum up values')\n",
        "num1 = '364'\n",
        "num2 = '1836'\n",
        "\n",
        "# Approach 1: \n",
        "def sumWithEval(num1,num2):\n",
        "    return str(eval(num1) + eval(num2))\n",
        "            \n",
        "print(sumWithEval(num1,num2))"
      ],
      "metadata": {
        "colab": {
          "base_uri": "https://localhost:8080/"
        },
        "id": "RFb_FN1REeMb",
        "outputId": "f421ad72-eedf-4941-f019-276028f590d9"
      },
      "execution_count": 5,
      "outputs": [
        {
          "output_type": "stream",
          "name": "stdout",
          "text": [
            "sum up values\n",
            "2200\n"
          ]
        }
      ]
    },
    {
      "cell_type": "markdown",
      "source": [
        "# Einzigartiger Buchstabe\n",
        "Schreibe einen Funktion, die den Indes des ersten einzigartigen Buchstaben eines String zurückgibt"
      ],
      "metadata": {
        "id": "fa8jXzRtExni"
      }
    },
    {
      "cell_type": "code",
      "source": [
        "print('first Unique Character')\n",
        "def FirstUniqueCharacter(s):\n",
        "    frequency = {}\n",
        "    for i in s:\n",
        "        if i not in frequency:\n",
        "            frequency[i] = 1\n",
        "        else:\n",
        "            frequency[i] +=1\n",
        "    for i in range(len(s)):\n",
        "        if frequency[s[i]] == 1:\n",
        "            return i\n",
        "    return -1\n",
        "\n",
        "print(FirstUniqueCharacter('alphabet'))\n",
        "print(FirstUniqueCharacter('barbados'))\n",
        "print(FirstUniqueCharacter('crunchy'))"
      ],
      "metadata": {
        "colab": {
          "base_uri": "https://localhost:8080/"
        },
        "id": "uYtlS9KIE_Bb",
        "outputId": "81072599-14d6-4a98-eba9-1460feca4fb3"
      },
      "execution_count": 8,
      "outputs": [
        {
          "output_type": "stream",
          "name": "stdout",
          "text": [
            "first Unique Character\n",
            "1\n",
            "2\n",
            "1\n"
          ]
        }
      ]
    },
    {
      "cell_type": "markdown",
      "source": [
        "# Einzigartiger Buchstabe, alternative\n",
        "Schreibe wieder eine Funktion, die den Index des ersten einzigartigen Buchstaben ausgibt."
      ],
      "metadata": {
        "id": "ahXbjHASFHoS"
      }
    },
    {
      "cell_type": "code",
      "source": [
        "import collections\n",
        "def FirstUniqueCharacterVariantB(s):\n",
        "    # build hash map : character and how often it appears\n",
        "    count = collections.Counter(s) # <-- gives back a dictionary with words occurrence count \n",
        "                                            #Counter({'l': 1, 'e': 3, 't': 1, 'c': 1, 'o': 1, 'd': 1})\n",
        "    \n",
        "    # find the index\n",
        "    for idx, ch in enumerate(s):\n",
        "        if count[ch] == 1:\n",
        "            return idx     \n",
        "    return -1\n",
        "\n",
        "print(FirstUniqueCharacterVariantB('alphabet'))\n",
        "print(FirstUniqueCharacterVariantB('barbados'))\n",
        "print(FirstUniqueCharacterVariantB('crunchy'))"
      ],
      "metadata": {
        "colab": {
          "base_uri": "https://localhost:8080/"
        },
        "id": "91XLOtgbFSYb",
        "outputId": "2fab1fd3-9fad-4dff-fec6-7ef28ff8fb8a"
      },
      "execution_count": 10,
      "outputs": [
        {
          "output_type": "stream",
          "name": "stdout",
          "text": [
            "1\n",
            "2\n",
            "1\n"
          ]
        }
      ]
    },
    {
      "cell_type": "markdown",
      "source": [
        "# Palendrome\n",
        "Schreibe eine Funktion, die angibt, ob der String ein Palendrom ist"
      ],
      "metadata": {
        "id": "FHl9Dh18FW9a"
      }
    },
    {
      "cell_type": "code",
      "source": [
        "s = 'Kroko'\n",
        "def Palendrome(s):\n",
        "    for i in range(len(s)):\n",
        "        t = s[:i] + s[i+1:]\n",
        "        print(t)\n",
        "        if t == t[::-1]: return True\n",
        "\n",
        "    return s == s[::-1]\n",
        "  \n",
        "print(Palendrome(s))\n"
      ],
      "metadata": {
        "colab": {
          "base_uri": "https://localhost:8080/"
        },
        "id": "P-A5o1XVGB_8",
        "outputId": "dcc229ef-b6fa-410c-83dd-86e4816c6182"
      },
      "execution_count": 12,
      "outputs": [
        {
          "output_type": "stream",
          "name": "stdout",
          "text": [
            "roko\n",
            "Koko\n",
            "Krko\n",
            "Kroo\n",
            "Krok\n",
            "False\n",
            "monotonic?\n"
          ]
        }
      ]
    },
    {
      "cell_type": "markdown",
      "source": [
        "# Monoton\n",
        "Schreiben Sie eine Funktion, die auswertet, ob eine Zahlreihe monoton steigend ist"
      ],
      "metadata": {
        "id": "DyPS-Zl_GNrL"
      }
    },
    {
      "cell_type": "code",
      "source": [
        "A = [6, 5, 4, 4] \n",
        "B = [1,1,1,3,3,4,3,2,4,2]\n",
        "C = [1,1,2,3,7]\n",
        "\n",
        "\n",
        "def monotonic(nums): \n",
        "    return (all(nums[i] <= nums[i + 1] for i in range(len(nums) - 1)) or \n",
        "            all(nums[i] >= nums[i + 1] for i in range(len(nums) - 1))) \n",
        "  \n",
        "print(monotonic(A)) \n",
        "print(monotonic(B)) \n",
        "print(monotonic(C)) \n",
        "\n",
        "print('Zeroes at the end')\n",
        "array1 = [0,1,0,3,12]\n",
        "array2 = [1,7,0,0,8,0,10,12,0,4]"
      ],
      "metadata": {
        "colab": {
          "base_uri": "https://localhost:8080/"
        },
        "id": "DTk-3EWSGY3D",
        "outputId": "11f7899c-4634-4bf8-a18e-0086965f4374"
      },
      "execution_count": 13,
      "outputs": [
        {
          "output_type": "stream",
          "name": "stdout",
          "text": [
            "True\n",
            "False\n",
            "True\n",
            "Zeroes at the end\n"
          ]
        }
      ]
    },
    {
      "cell_type": "markdown",
      "source": [
        "# Nullen sortieren\n",
        "Schreibe eine Funktion, die die Nullen einer Zahl ans Ende der Zahl schreibt."
      ],
      "metadata": {
        "id": "F9WNpU1NGhWh"
      }
    },
    {
      "cell_type": "code",
      "source": [
        "print('Zeroes at the end')\n",
        "array1 = [0,1,0,3,12]\n",
        "array2 = [1,7,0,0,8,0,10,12,0,4]\n",
        "\n",
        "def solution(nums):\n",
        "    lens=len(nums)\n",
        "    print(lens)\n",
        "    for i in range(lens):\n",
        "        if 0 in nums:\n",
        "            print(nums)\n",
        "            nums.remove(0)\n",
        "            nums.append(0)\n",
        "            print(nums)\n",
        "    return nums\n",
        "\n",
        "print(solution(array1))\n",
        "print(solution(array2))\n"
      ],
      "metadata": {
        "colab": {
          "base_uri": "https://localhost:8080/"
        },
        "id": "AQuvIUbLGiLb",
        "outputId": "4bfbe943-edb1-4ef3-cc46-f0bdb7045615"
      },
      "execution_count": 15,
      "outputs": [
        {
          "output_type": "stream",
          "name": "stdout",
          "text": [
            "Zeroes at the end\n",
            "5\n",
            "[0, 1, 0, 3, 12]\n",
            "[1, 0, 3, 12, 0]\n",
            "[1, 0, 3, 12, 0]\n",
            "[1, 3, 12, 0, 0]\n",
            "[1, 3, 12, 0, 0]\n",
            "[1, 3, 12, 0, 0]\n",
            "[1, 3, 12, 0, 0]\n",
            "[1, 3, 12, 0, 0]\n",
            "[1, 3, 12, 0, 0]\n",
            "[1, 3, 12, 0, 0]\n",
            "[1, 3, 12, 0, 0]\n",
            "10\n",
            "[1, 7, 0, 0, 8, 0, 10, 12, 0, 4]\n",
            "[1, 7, 0, 8, 0, 10, 12, 0, 4, 0]\n",
            "[1, 7, 0, 8, 0, 10, 12, 0, 4, 0]\n",
            "[1, 7, 8, 0, 10, 12, 0, 4, 0, 0]\n",
            "[1, 7, 8, 0, 10, 12, 0, 4, 0, 0]\n",
            "[1, 7, 8, 10, 12, 0, 4, 0, 0, 0]\n",
            "[1, 7, 8, 10, 12, 0, 4, 0, 0, 0]\n",
            "[1, 7, 8, 10, 12, 4, 0, 0, 0, 0]\n",
            "[1, 7, 8, 10, 12, 4, 0, 0, 0, 0]\n",
            "[1, 7, 8, 10, 12, 4, 0, 0, 0, 0]\n",
            "[1, 7, 8, 10, 12, 4, 0, 0, 0, 0]\n",
            "[1, 7, 8, 10, 12, 4, 0, 0, 0, 0]\n",
            "[1, 7, 8, 10, 12, 4, 0, 0, 0, 0]\n",
            "[1, 7, 8, 10, 12, 4, 0, 0, 0, 0]\n",
            "[1, 7, 8, 10, 12, 4, 0, 0, 0, 0]\n",
            "[1, 7, 8, 10, 12, 4, 0, 0, 0, 0]\n",
            "[1, 7, 8, 10, 12, 4, 0, 0, 0, 0]\n",
            "[1, 7, 8, 10, 12, 4, 0, 0, 0, 0]\n",
            "[1, 7, 8, 10, 12, 4, 0, 0, 0, 0]\n",
            "[1, 7, 8, 10, 12, 4, 0, 0, 0, 0]\n",
            "[1, 7, 8, 10, 12, 4, 0, 0, 0, 0]\n"
          ]
        }
      ]
    },
    {
      "cell_type": "markdown",
      "source": [
        "# Ersetzen\n",
        "Schreiben Sie eine Funktion, die alle None mit der jeweils letzten Zahl ersetzt."
      ],
      "metadata": {
        "id": "Us08IeJtHk4D"
      }
    },
    {
      "cell_type": "code",
      "source": [
        "array1 = [1,None,2,3,None,None,5,None]\n",
        "\n",
        "def solution(array):\n",
        "    valid = 0            \n",
        "    res = []                 \n",
        "    for i in array: \n",
        "        if i is not None:    \n",
        "            res.append(i)\n",
        "            valid = i\n",
        "        else:\n",
        "            res.append(valid)\n",
        "    return res\n",
        "\n",
        "print(solution(array1))"
      ],
      "metadata": {
        "colab": {
          "base_uri": "https://localhost:8080/"
        },
        "id": "63BkX6a_HsUP",
        "outputId": "e310ee88-ca9b-4a1c-c773-8477420895d9"
      },
      "execution_count": 16,
      "outputs": [
        {
          "output_type": "stream",
          "name": "stdout",
          "text": [
            "[1, 1, 2, 3, 3, 3, 5, 5]\n"
          ]
        }
      ]
    },
    {
      "cell_type": "markdown",
      "source": [
        "# Gleiche Wortei in zwei Sätzen\n",
        "Schreiben Sie eine Funktion, die in zwei Sätzen gleiche Worte herausfindet."
      ],
      "metadata": {
        "id": "XLaUDcZLH1cs"
      }
    },
    {
      "cell_type": "code",
      "source": [
        "sentence1 = 'We are really pleased to meet you in our city'\n",
        "sentence2 = 'The city was hit by a really heavy storm'\n",
        "\n",
        "def solution(sentence1, sentence2):\n",
        "    set1 = set(sentence1.split())\n",
        "    print(sentence1.split())\n",
        "    print(set1)\n",
        "    set2 = set(sentence2.split())\n",
        "    print(sentence2.split())\n",
        "    print(set2)\n",
        "    \n",
        "    print(list(set1^set2))\n",
        "    print(list(set1&set2))\n",
        "    \n",
        "    return sorted(list(set1^set2)), sorted(list(set1&set2)) # ^ A.symmetric_difference(B), & A.intersection(B)\n",
        "\n",
        "print(solution(sentence1, sentence2))"
      ],
      "metadata": {
        "colab": {
          "base_uri": "https://localhost:8080/"
        },
        "id": "w5CNPFE5H-Gz",
        "outputId": "97530a12-f6c9-4501-f50e-ac98f7717eae"
      },
      "execution_count": 17,
      "outputs": [
        {
          "output_type": "stream",
          "name": "stdout",
          "text": [
            "['We', 'are', 'really', 'pleased', 'to', 'meet', 'you', 'in', 'our', 'city']\n",
            "{'are', 'We', 'to', 'in', 'really', 'our', 'pleased', 'meet', 'city', 'you'}\n",
            "['The', 'city', 'was', 'hit', 'by', 'a', 'really', 'heavy', 'storm']\n",
            "{'a', 'really', 'by', 'heavy', 'The', 'storm', 'hit', 'city', 'was'}\n",
            "['are', 'We', 'a', 'to', 'meet', 'you', 'by', 'heavy', 'The', 'our', 'pleased', 'storm', 'hit', 'was', 'in']\n",
            "['really', 'city']\n",
            "(['The', 'We', 'a', 'are', 'by', 'heavy', 'hit', 'in', 'meet', 'our', 'pleased', 'storm', 'to', 'was', 'you'], ['city', 'really'])\n"
          ]
        }
      ]
    },
    {
      "cell_type": "markdown",
      "source": [
        "# Primzahl\n",
        "Schreiben Sie eine Funktion, die herausfindet, welche natürlichen Zahlen sie kkleiner als eine angegebene Zahl sind, Primzahlen sind."
      ],
      "metadata": {
        "id": "zovN7kfDIJI0"
      }
    },
    {
      "cell_type": "code",
      "source": [
        "n = 35\n",
        "def primenum(n):\n",
        "    prime_nums = []\n",
        "    for num in range(2,n):\n",
        "            for i in range(2, num):\n",
        "                if (num % i) == 0: # if the modulus == 0 is means that the number can be divided by a number preceding it\n",
        "                    break\n",
        "            else:\n",
        "                prime_nums.append(num)\n",
        "    return prime_nums\n",
        "print(primenum(n))"
      ],
      "metadata": {
        "colab": {
          "base_uri": "https://localhost:8080/"
        },
        "id": "HAqxsf32IRJM",
        "outputId": "c1c3137d-b1a5-4a41-c148-0c475c964799"
      },
      "execution_count": 18,
      "outputs": [
        {
          "output_type": "stream",
          "name": "stdout",
          "text": [
            "[2, 3, 5, 7, 11, 13, 17, 19, 23, 29, 31]\n"
          ]
        }
      ]
    },
    {
      "cell_type": "markdown",
      "source": [
        "# Starke Zahl\n",
        "Schreiben Sie eine Funktion, die herausfindet, ob eine Zahl eine Starke Zahl ist. Eine Starke Zahl ist z.B. 125, denn 1! + 2! + 5!= 1 + 4 + 120 = 125."
      ],
      "metadata": {
        "id": "hRbmzS1OI46E"
      }
    },
    {
      "cell_type": "code",
      "source": [
        "def strongNumber(x):\n",
        "    x=str(x)\n",
        "    prod=1\n",
        "    sum=0\n",
        "    for idx, elem in enumerate(x):\n",
        "        for j in range(1,int(elem)+1):\n",
        "            prod*=j\n",
        "        sum+=prod\n",
        "        prod=1\n",
        "        \n",
        "    return sum==int(x)\n",
        "print(strongNumber(145))\n"
      ],
      "metadata": {
        "colab": {
          "base_uri": "https://localhost:8080/"
        },
        "id": "hKNMqM4OJB0s",
        "outputId": "93b6cd1b-149d-493a-d67b-8e60f390e8c7"
      },
      "execution_count": 22,
      "outputs": [
        {
          "output_type": "stream",
          "name": "stdout",
          "text": [
            "True\n"
          ]
        }
      ]
    },
    {
      "cell_type": "markdown",
      "source": [
        "# Zweit größte Zahl\n",
        "Schreiben sie eine funktion, die die zweit größte Zahl einer Liste ausgibt"
      ],
      "metadata": {
        "id": "gFJkQalFKG-1"
      }
    },
    {
      "cell_type": "code",
      "source": [
        ""
      ],
      "metadata": {
        "id": "5ABFStx5Kzcz"
      },
      "execution_count": null,
      "outputs": []
    },
    {
      "cell_type": "code",
      "source": [
        "nList=[3, 4, 1, 2, 6]\n",
        "nList.sort()\n",
        "print(nList[-2])"
      ],
      "metadata": {
        "colab": {
          "base_uri": "https://localhost:8080/"
        },
        "id": "zBx_85HdKS3V",
        "outputId": "6ad7f19a-8dff-4129-86bb-cbc07bda3d98"
      },
      "execution_count": 23,
      "outputs": [
        {
          "output_type": "stream",
          "name": "stdout",
          "text": [
            "4\n"
          ]
        }
      ]
    },
    {
      "cell_type": "markdown",
      "source": [
        "# Perfekte Zahl\n",
        "Wenn alle natürlichen Zahlen, die kleiner als die angegebene Zahl sind, durch die sich die angegebene Zahl teilen lässt, zusammenmultipliziert werden können und die angegebene Zahl ergeben."
      ],
      "metadata": {
        "id": "Du-QVyy7Kbgj"
      }
    },
    {
      "cell_type": "code",
      "source": [
        "def perfectNumber(x):\n",
        "    dList = []\n",
        "    dSum=0\n",
        "    for i in range(1,x):\n",
        "        if x%i==0:\n",
        "            dList.append(i)\n",
        "            dSum+=i\n",
        "    print(dList)\n",
        "    \n",
        "    return dSum==x\n",
        "print(perfectNumber(6))"
      ],
      "metadata": {
        "colab": {
          "base_uri": "https://localhost:8080/"
        },
        "id": "5bNFJUNEKcAk",
        "outputId": "c4855e5b-0ddc-4e4d-cef7-910b8d323e88"
      },
      "execution_count": 25,
      "outputs": [
        {
          "output_type": "stream",
          "name": "stdout",
          "text": [
            "[1, 2, 3]\n",
            "True\n"
          ]
        }
      ]
    },
    {
      "cell_type": "markdown",
      "source": [
        "#Narzistische Funktion\n",
        "Das ist zu krank das zu erklären... 4^3+0^3+7^3=407... tada eine narzistische Funktion."
      ],
      "metadata": {
        "id": "jUKcCtTJLi5L"
      }
    },
    {
      "cell_type": "code",
      "source": [
        "def narziss(x):\n",
        "    x=str(x)\n",
        "    xSum=0\n",
        "    for elem in x:\n",
        "        xSum+=int(elem)**len(x)\n",
        "    return(xSum==int(x))\n",
        "\n",
        "print(narziss(407))\n",
        "\n",
        "print(456-456%100)"
      ],
      "metadata": {
        "colab": {
          "base_uri": "https://localhost:8080/"
        },
        "id": "jRCu1zs6Ll69",
        "outputId": "f34bd6b2-00de-45b9-bb5f-3ca37aa89019"
      },
      "execution_count": 26,
      "outputs": [
        {
          "output_type": "stream",
          "name": "stdout",
          "text": [
            "True\n",
            "400\n"
          ]
        }
      ]
    },
    {
      "cell_type": "markdown",
      "source": [
        "# Klassen"
      ],
      "metadata": {
        "id": "HogjbH1rMYN0"
      }
    },
    {
      "cell_type": "code",
      "source": [
        "class Kroko:\n",
        "    def __init__ (self, name, element, sin=\"noSin\"):\n",
        "        self.name = name\n",
        "        self.element = element\n",
        "        self.sin = sin\n",
        "        \n",
        "        self.firstName = self.name.split()[0]\n",
        "        self.lastName = self.name.split()[1]\n",
        "        \n",
        "    def attack(self):\n",
        "        print(self.sin+\" attack!\")\n",
        "\n",
        "        \n",
        "Hadegen=Kroko(\"Hadegen Senftenberg\", \"Leben\")  \n",
        "print(Hadegen.name)\n",
        "print(Hadegen.lastName)\n",
        "Hadegen.attack()"
      ],
      "metadata": {
        "colab": {
          "base_uri": "https://localhost:8080/"
        },
        "id": "ziOwsdtKMauu",
        "outputId": "26a77b86-9691-4b4e-f629-71e91de5a868"
      },
      "execution_count": 27,
      "outputs": [
        {
          "output_type": "stream",
          "name": "stdout",
          "text": [
            "Hadegen Senftenberg\n",
            "Senftenberg\n",
            "noSin attack!\n"
          ]
        }
      ]
    },
    {
      "cell_type": "markdown",
      "source": [
        "#Länder"
      ],
      "metadata": {
        "id": "9pIepczSMkJU"
      }
    },
    {
      "cell_type": "code",
      "source": [
        "countries = (\"Germany\", \"Pakistan\", \"China\", \"Turkey\", \"Australia\", \"France\")\n",
        "\n",
        "print(countries[0:5:2])"
      ],
      "metadata": {
        "colab": {
          "base_uri": "https://localhost:8080/"
        },
        "id": "VLIspiKFMpSG",
        "outputId": "5eb11aa2-06a6-4b1f-be28-2774df3e398f"
      },
      "execution_count": 28,
      "outputs": [
        {
          "output_type": "stream",
          "name": "stdout",
          "text": [
            "('Germany', 'China', 'Australia')\n"
          ]
        }
      ]
    },
    {
      "cell_type": "markdown",
      "source": [
        "# Quadratische Funktionen mit lamnda expression"
      ],
      "metadata": {
        "id": "SgU-m_jLMr3s"
      }
    },
    {
      "cell_type": "code",
      "source": [
        "def quadratischeFunktion(a,b,c):\n",
        "    return lambda x:x**2*a+x*b+c\n",
        "\n",
        "a=quadratischeFunktion(1,1,1)\n",
        "print(a(1))"
      ],
      "metadata": {
        "colab": {
          "base_uri": "https://localhost:8080/"
        },
        "id": "aXBFZp0cM1eN",
        "outputId": "48c14382-2356-4ecc-bb0b-29f5e0e2f16b"
      },
      "execution_count": 29,
      "outputs": [
        {
          "output_type": "stream",
          "name": "stdout",
          "text": [
            "3\n"
          ]
        }
      ]
    },
    {
      "cell_type": "markdown",
      "source": [
        "# Liste mit lambda"
      ],
      "metadata": {
        "id": "MpRUGTPeM8ZT"
      }
    },
    {
      "cell_type": "code",
      "source": [
        "listeKroko = ['Naxi Feuer', 'Brudi Erde', 'Normen de Gun Wind', 'Nitz Garcia Wasser', 'Rayo di Sol Ordnung']\n",
        "listeKroko.sort(key=lambda name: name.split()[-1])\n",
        "print(listeKroko)"
      ],
      "metadata": {
        "colab": {
          "base_uri": "https://localhost:8080/"
        },
        "id": "uZ2KCGEeNKv-",
        "outputId": "e4ef9daa-9c3b-44d6-abd3-723bcabaabec"
      },
      "execution_count": 30,
      "outputs": [
        {
          "output_type": "stream",
          "name": "stdout",
          "text": [
            "['Brudi Erde', 'Naxi Feuer', 'Rayo di Sol Ordnung', 'Nitz Garcia Wasser', 'Normen de Gun Wind']\n"
          ]
        }
      ]
    },
    {
      "cell_type": "markdown",
      "source": [
        "# Lambda"
      ],
      "metadata": {
        "id": "pB9DruX_NUs1"
      }
    },
    {
      "cell_type": "code",
      "source": [
        "x = lambda a: a * 14\n",
        "print(x(3))"
      ],
      "metadata": {
        "colab": {
          "base_uri": "https://localhost:8080/"
        },
        "id": "-clipMEMNaLv",
        "outputId": "d749baf0-e3ac-4266-e44b-dbe7519e4802"
      },
      "execution_count": 31,
      "outputs": [
        {
          "output_type": "stream",
          "name": "stdout",
          "text": [
            "42\n"
          ]
        }
      ]
    },
    {
      "cell_type": "markdown",
      "source": [
        "# Vargs Beispiel"
      ],
      "metadata": {
        "id": "cXuW5eBBNgj0"
      }
    },
    {
      "cell_type": "code",
      "source": [
        "def Kro1(*argv):\n",
        "    for i in argv:\n",
        "        print(i)\n",
        "\n",
        "Kro1('Crocodile', 'Alligator', 'Gavial')\n",
        "\n",
        "def Kro2(**kwargs):\n",
        "    for i,j in kwargs.items():\n",
        "        print(str(i)+\" \"+str(j))\n",
        "\n",
        "KroDic=dict(Naxi=\"Feuer\",\n",
        "        Brudi=\"Erde\",\n",
        "        Normen=\"Luft\",\n",
        "        Nitz=\"Wasser\")\n",
        "\n",
        "Kro2(**KroDic)"
      ],
      "metadata": {
        "colab": {
          "base_uri": "https://localhost:8080/"
        },
        "id": "xH2DUSgyNjEV",
        "outputId": "c19f18a0-c69a-4a11-8d25-57e277a9f014"
      },
      "execution_count": 32,
      "outputs": [
        {
          "output_type": "stream",
          "name": "stdout",
          "text": [
            "Crocodile\n",
            "Alligator\n",
            "Gavial\n",
            "Naxi Feuer\n",
            "Brudi Erde\n",
            "Normen Luft\n",
            "Nitz Wasser\n"
          ]
        }
      ]
    },
    {
      "cell_type": "markdown",
      "source": [
        "# Arrays"
      ],
      "metadata": {
        "id": "56HqvbsoNzjl"
      }
    },
    {
      "cell_type": "code",
      "source": [
        "print('add arrays')\n",
        "import numpy as np\n",
        "\n",
        "a=np.array([1,2,3])\n",
        "b=np.array([4,5,6])\n",
        "\n",
        "print(np.sum((a,b),axis=0))"
      ],
      "metadata": {
        "colab": {
          "base_uri": "https://localhost:8080/"
        },
        "id": "uyJ1XHd_N10W",
        "outputId": "8298bde8-6a77-4ed1-b6ad-5d9954e9e94d"
      },
      "execution_count": 33,
      "outputs": [
        {
          "output_type": "stream",
          "name": "stdout",
          "text": [
            "add arrays\n",
            "[5 7 9]\n"
          ]
        }
      ]
    },
    {
      "cell_type": "markdown",
      "source": [
        "#Imort iris dataset"
      ],
      "metadata": {
        "id": "b6qSWbo3N98d"
      }
    },
    {
      "cell_type": "code",
      "source": [
        "import pandas as pd\n",
        "\n",
        "iris = pd.read_csv('iris.csv')\n",
        "\n",
        "df = pd.DataFrame(iris) \n",
        "\n",
        "a=df.loc[:,'sepal.length']\n",
        "b=df.loc[:,'sepal.width']\n",
        "idxList=[]\n",
        "for i in range(len(a)):\n",
        "    if a[i]>6 and b[i]>3.3:\n",
        "        idxList.append(i)\n",
        "print(\"ergebnis\")  \n",
        "print(idxList)\n",
        "\n",
        "\n",
        "print('ListenTest:')\n",
        "a=[i for i in range(10)]\n",
        "print(a)\n",
        "b=[i for i in a if i>5 and i<9]\n",
        "print(b)"
      ],
      "metadata": {
        "id": "-3jiCUrWOAeN"
      },
      "execution_count": null,
      "outputs": []
    },
    {
      "cell_type": "markdown",
      "source": [
        "#Lists"
      ],
      "metadata": {
        "id": "Zzgmb6GZORmu"
      }
    },
    {
      "cell_type": "code",
      "source": [
        "import numpy as np\n",
        "#You can change entries of a list\n",
        "mylist = [1, \"banana\", \"cherry\"]\n",
        "mylist.append(\"blueberry\")\n",
        "print(mylist)\n",
        "mylist[-1]=\"notBlueberry\"\n",
        "print(mylist)\n",
        "print(mylist[-1])\n",
        "#----------------------------------\n",
        "mytuple = (1, \"banana\", \"cherry\")\n",
        "print(mytuple)\n",
        "print(mytuple[-1])\n",
        "#----------------------------------\n",
        "myArray=np.array([1, \"banana\", \"cherry\"])\n",
        "myArray2=np.array([1, 2, 3])\n",
        "print(myArray)\n",
        "print(myArray2)\n",
        "print(myArray[-1])\n",
        "#------------------------------------\n",
        "thisdict = {\n",
        "  \"brand\": \"Ford\",\n",
        "  \"model\": \"Mustang\",\n",
        "  \"year\": 1964\n",
        "}\n",
        "\n",
        "thisdict[\"neuerEintrag\"]=\"neuneu\"\n",
        "print(thisdict[\"brand\"])\n",
        "print(thisdict[\"neuerEintrag\"])\n",
        "#-------------------------------\n",
        "kString=\"Kroko\"\n",
        "print(kString)\n",
        "kList=list(kString)\n",
        "print(kList)\n",
        "kList[2]=\"u\"\n",
        "print(kList)\n",
        "modString=''.join(kList)\n",
        "print(modString)\n",
        "#------------converting-----------------\n",
        "tupli=(1,2)\n",
        "print(tupli)\n",
        "print(str(tupli)[:])\n",
        "print(list(tupli))\n",
        "\n",
        "Listi=[1, 2, 3, 4]\n",
        "setListi=set(Listi)\n",
        "print(Listi)\n",
        "print(setListi)\n",
        "print(next(iter(setListi)))\n",
        "listiagain=list(setListi)\n",
        "print(listiagain)\n",
        "\n",
        "\n"
      ],
      "metadata": {
        "colab": {
          "base_uri": "https://localhost:8080/"
        },
        "id": "nFqF-a0kOTuO",
        "outputId": "a2c38739-66ea-40e0-ddc5-158d0009e032"
      },
      "execution_count": 34,
      "outputs": [
        {
          "output_type": "stream",
          "name": "stdout",
          "text": [
            "[1, 'banana', 'cherry', 'blueberry']\n",
            "[1, 'banana', 'cherry', 'notBlueberry']\n",
            "notBlueberry\n",
            "(1, 'banana', 'cherry')\n",
            "cherry\n",
            "['1' 'banana' 'cherry']\n",
            "[1 2 3]\n",
            "cherry\n",
            "Ford\n",
            "neuneu\n",
            "Kroko\n",
            "['K', 'r', 'o', 'k', 'o']\n",
            "['K', 'r', 'u', 'k', 'o']\n",
            "Kruko\n",
            "(1, 2)\n",
            "(1, 2)\n",
            "[1, 2]\n",
            "[1, 2, 3, 4]\n",
            "{1, 2, 3, 4}\n",
            "1\n",
            "[1, 2, 3, 4]\n"
          ]
        }
      ]
    },
    {
      "cell_type": "markdown",
      "source": [
        "#Numpy"
      ],
      "metadata": {
        "id": "Zgfkr-faOnJO"
      }
    },
    {
      "cell_type": "code",
      "source": [
        "import numpy as np\n",
        "np.random.seed(0)\n",
        "a = np.random.randint(1, 10, size=(5,2))\n",
        "print(a)\n",
        "print(a.shape)\n",
        "b = np.array([[6, 1],[4, 4],[8, 4],[6, 3],[5, 8]])\n",
        "print(b)\n",
        "print(b.shape)\n",
        "c = np.array([[6, 1, 1],[4, 4, 1]])\n",
        "print(c)\n",
        "print(c.shape)\n",
        "\n",
        "#print(a+b)\n",
        "#print(a-b)\n",
        "#print(a*2)\n",
        "#print(a+2)\n",
        "print(\"multipli:\"+str(np.dot(a,c).shape))\n",
        "\n",
        "\n",
        "\n",
        "vector1=np.array([[6, 1, 3, 4, 6]])\n",
        "vector2=vector1.T\n",
        "print(vector1.shape)\n",
        "print(vector2.shape)\n",
        "print(np.dot(vector1,vector2).shape)\n",
        "print(np.dot(vector2,vector1).shape)"
      ],
      "metadata": {
        "colab": {
          "base_uri": "https://localhost:8080/"
        },
        "id": "LXAytpYCOo9W",
        "outputId": "62ac089b-933c-48f2-b650-227f7fe2aaf3"
      },
      "execution_count": 35,
      "outputs": [
        {
          "output_type": "stream",
          "name": "stdout",
          "text": [
            "[[6 1]\n",
            " [4 4]\n",
            " [8 4]\n",
            " [6 3]\n",
            " [5 8]]\n",
            "(5, 2)\n",
            "[[6 1]\n",
            " [4 4]\n",
            " [8 4]\n",
            " [6 3]\n",
            " [5 8]]\n",
            "(5, 2)\n",
            "[[6 1 1]\n",
            " [4 4 1]]\n",
            "(2, 3)\n",
            "multipli:(5, 3)\n",
            "(1, 5)\n",
            "(5, 1)\n",
            "(1, 1)\n",
            "(5, 5)\n"
          ]
        }
      ]
    },
    {
      "cell_type": "markdown",
      "source": [
        "#Yield"
      ],
      "metadata": {
        "id": "byRu_QgaOwpl"
      }
    },
    {
      "cell_type": "code",
      "source": [
        "class Parent:\n",
        "    temper=32\n",
        "    def __init__(self):\n",
        "        self.age=32\n",
        "        \n",
        "        \n",
        "class Child(Parent):\n",
        "    pass\n",
        "        \n",
        "        \n",
        "a=Parent()\n",
        "print(\"Parent age: \"+str(a.age))\n",
        "print(\"Parent temper: \"+str(a.temper))\n",
        "b=Child()\n",
        "\n",
        "print(\"Child age: \"+str(b.age))\n",
        "print(\"Child temper: \"+str(b.temper))\n",
        "a.age=33\n",
        "a.temper=33\n",
        "print(\"Parent age: \"+str(a.age))\n",
        "print(\"Parent temper: \"+str(a.temper))\n",
        "print(\"Child age: \"+str(b.age))\n",
        "print(\"Child temper: \"+str(b.temper))\n",
        "\n",
        "\n",
        "print(Parent.temper)\n",
        "    \n",
        "\n",
        "def fun1():\n",
        "    for i in range(1,10):\n",
        "        yield i\n",
        "   \n",
        "def fun2(elem):\n",
        "    for i in elem:\n",
        "        yield i*2\n",
        "        \n",
        "obj=fun2(fun1())\n",
        "print(next(obj))\n",
        "print(next(obj))\n"
      ],
      "metadata": {
        "colab": {
          "base_uri": "https://localhost:8080/"
        },
        "id": "RwVdqeDLOyIf",
        "outputId": "4574f05f-7e74-4965-a9ed-bbb91fb094f4"
      },
      "execution_count": 36,
      "outputs": [
        {
          "output_type": "stream",
          "name": "stdout",
          "text": [
            "Parent age: 32\n",
            "Parent temper: 32\n",
            "Child age: 32\n",
            "Child temper: 32\n",
            "Parent age: 33\n",
            "Parent temper: 33\n",
            "Child age: 32\n",
            "Child temper: 32\n",
            "32\n",
            "2\n",
            "4\n"
          ]
        }
      ]
    }
  ],
  "metadata": {
    "colab": {
      "collapsed_sections": [
        "MrLKocNhD_lc",
        "DyPS-Zl_GNrL"
      ],
      "name": "Bewerbungstests.ipynb",
      "provenance": [],
      "mount_file_id": "1zyIJX1bLXukdOXq78BppZADawRoDbG25",
      "authorship_tag": "ABX9TyPQ2cSCyCdcwgqCieDQxau8",
      "include_colab_link": true
    },
    "kernelspec": {
      "display_name": "Python 3",
      "name": "python3"
    },
    "language_info": {
      "name": "python"
    },
    "accelerator": "GPU"
  },
  "nbformat": 4,
  "nbformat_minor": 0
}